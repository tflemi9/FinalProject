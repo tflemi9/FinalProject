{
 "cells": [
  {
   "cell_type": "markdown",
   "metadata": {
    "colab": {
     "base_uri": "https://localhost:8080/",
     "height": 71
    },
    "colab_type": "code",
    "id": "v8UKH-gZ0b4u",
    "outputId": "ca01f3c9-12dd-4bee-c2f3-f3b748584dfe"
   },
   "source": [
    "# Final Project "
   ]
  },
  {
   "cell_type": "markdown",
   "metadata": {},
   "source": [
    "#####                 Pravina Pidikiti, Jasmine Kinchen, and Tanisha Fleming contributed to this code."
   ]
  },
  {
   "cell_type": "code",
   "execution_count": 208,
   "metadata": {},
   "outputs": [],
   "source": [
    "#Import necessary modules\n",
    "import random\n",
    "from copy import copy\n",
    "import matplotlib.pyplot as plt\n",
    "import matplotlib.patches as mpatches\n",
    "import seaborn as sns\n",
    "import numpy as np\n",
    "import pandas as pd "
   ]
  },
  {
   "cell_type": "markdown",
   "metadata": {},
   "source": [
    "## - Defining each class function."
   ]
  },
  {
   "cell_type": "code",
   "execution_count": 209,
   "metadata": {
    "colab": {},
    "colab_type": "code",
    "id": "OGKtDw530cA_"
   },
   "outputs": [],
   "source": [
    "#Define the individual class.\n",
    "\n",
    "#not sure if the list of different phenotypes should be used for individual or population \n",
    "#project says each population should have inidividuals with same phenotype \n",
    "colors = [\"red\", \"orange\", \"yellow\", \"green\", \"blue\", \"purple\"]\n",
    "\n",
    "class individual:\n",
    "    # Add a docstring \n",
    "    '''Function to create individuals'''\n",
    "    def __init__(self,id =\"1\", x= \"0\",y= \"0\",colorNumber = 0): # Add default values and color phenotype.\n",
    "        # Add a docstring\n",
    "        self.id = id\n",
    "        self.x = x\n",
    "        self.y = y\n",
    "        self.colorNumber = colors[colorNumber]"
   ]
  },
  {
   "cell_type": "code",
   "execution_count": 210,
   "metadata": {
    "colab": {},
    "colab_type": "code",
    "id": "yGdQnK464vat"
   },
   "outputs": [],
   "source": [
    "#Define the population class.\n",
    "\n",
    "colors = [\"red\", \"orange\", \"yellow\", \"green\", \"blue\", \"purple\"]\n",
    "\n",
    "class population:\n",
    "\n",
    "  def __init__(self,id =\"1\",popSize = 50 ,colorNumber = 0): # Add default values and starting population size.\n",
    "        # Add a docstring\n",
    "        '''Function to create individuals and apply color'''\n",
    "        self.id = id\n",
    "        self.popSize = popSize\n",
    "        self.colorNumber = colors[colorNumber]\n",
    "        self.pop=[] #create list of individuals\n",
    "\n",
    "        for i in range(popSize):\n",
    "          #this will assign the population color to the individual color\n",
    "          if(i == 0):\n",
    "            newInd = individual(colorNumber = colorNumber) \n",
    "          else:\n",
    "            newInd = individual(id = i +1, colorNumber = colorNumber)  \n",
    "          self.pop.append(newInd) \n",
    "\n",
    "  def addInd(self,newInd):\n",
    "      self.pop.append(newInd)\n",
    "  def removeInd(self,newInd):\n",
    "      self.pop.remove(newInd)\n",
    "                \n",
    "#calculate and print the frequency of phenotypes among individuals.\n",
    "#Python program to count the frequency of  \n",
    "#individuals in a list using a dictionary \n",
    "  \n",
    "  def phenotypeFreq(self): #newPop or population.\n",
    "    '''Function to count phenotype frequencies'''\n",
    "\n",
    "    # Creating an empty dictionary  \n",
    "    freq = {\"red\":0,\"yellow\":0,\"green\":0,\"blue\":0,\"purple\":0,\"orange\":0} \n",
    "    for newInd in self.pop: \n",
    "        if newInd.colorNumber not in freq: #if color not already in dictionary add it with a count of 1 \n",
    "          freq.update({newInd.colorNumber:1})\n",
    "        elif newInd.colorNumber in freq: \n",
    "          freq[newInd.colorNumber] += 1 #increase number due to color occuring more than once \n",
    "        \n",
    "    \n",
    "    for k, v in freq.items(): \n",
    "        print (\"% s : % d\"%(k, v))\n",
    "\n",
    "    phenfreqList=[]\n",
    "\n",
    "    #need to take the values for all the keys and divide by the total number of individuals \n",
    "    #value / len(newPop.list)\n",
    "    for i in freq.keys():\n",
    "        phenFreq = freq[i] / len(self.pop)\n",
    "        phenfreqList.append(phenFreq)\n",
    "        \n",
    "    return  phenfreqList\n",
    "        #print(\"Phenotype Color %s has a frequency of %f\" % (i,phenFreq))\n",
    "    \n",
    "  def sizePlot(self):#creating a method for plotting population size using a dictionary\n",
    "    '''Function to help plot population size'''\n",
    "    freq = {\"red\":0,\"yellow\":0,\"green\":0,\"blue\":0,\"purple\":0,\"orange\":0}\n",
    "    for newInd in self.pop: \n",
    "        if newInd.colorNumber not in freq: #if color not already in dictionary add it with a count of 1 \n",
    "          freq.update({newInd.colorNumber:1})\n",
    "        elif newInd.colorNumber in freq: \n",
    "          freq[newInd.colorNumber] += 1 #increase number due to color occuring more than once \n",
    "        \n",
    "    sizePlotList=[] #Creating list of populations for plot\n",
    "    \n",
    "    for k, v in freq.items(): \n",
    "        sizePlotList.append(\"% s : % d\"%(k, v))\n",
    "        print (\"% s : % d\"%(k, v))\n",
    "    return sizePlotList"
   ]
  },
  {
   "cell_type": "code",
   "execution_count": 211,
   "metadata": {
    "colab": {},
    "colab_type": "code",
    "id": "tQIAtrsA5A-Z"
   },
   "outputs": [],
   "source": [
    "#Define the landscape class.\n",
    "class landscape:\n",
    "  #add dosctring\n",
    "  def __init__(self,landscapeSize=3,dispersalMatrix = None): #Add default values.\n",
    "    # Add a docstring\n",
    "    '''Function to apply probablity of movement between populations'''\n",
    "    self.landscapeSize = landscapeSize\n",
    "    self.land=[] #create list of populations\n",
    "    self.dispersalMatrix = [[0.4,0.3,0.2],[0.5,0.4,0.8],\n",
    "                           [0.3,0.6,0.2]]\n",
    "\n",
    "    for i in range(landscapeSize): #for every population in the landscape\n",
    "        #create a a population object that will pick the color phenotype from the colors list\n",
    "        #when i has already used white, it will restart to red for the next population to be created \n",
    "      if i == 0:\n",
    "          newPop = population(colorNumber = i % len(colors)) \n",
    "      else:\n",
    "          newPop = population(id = i + 1, colorNumber = i % len(colors))  \n",
    "        \n",
    "      self.land.append(newPop)  #add the population just created into the landscape list with the populations\n",
    "    \n",
    "  def move(self): #Creating a move method.\n",
    "      for i in range(len(self.land)):\n",
    "          indRemoval = []\n",
    "          newPop = None\n",
    "          for ind in self.land[i].pop:\n",
    "              newPop = random.choices(self.land, weights = self.dispersalMatrix[i])[0]\n",
    "          if newPop != self.land[i]:\n",
    "              indRemoval.append(ind)\n",
    "          \n",
    "          for ind in indRemoval:\n",
    "              self.land[i].removeInd(ind)\n",
    "              newPop.addInd(ind)"
   ]
  },
  {
   "cell_type": "code",
   "execution_count": 212,
   "metadata": {
    "colab": {
     "base_uri": "https://localhost:8080/",
     "height": 119
    },
    "colab_type": "code",
    "id": "LYePL9Bo81QU",
    "outputId": "0fe4d774-79e5-4d08-b6f2-da9bf0b4b9c8"
   },
   "outputs": [
    {
     "name": "stdout",
     "output_type": "stream",
     "text": [
      "red :  46\n",
      "yellow :  0\n",
      "green :  0\n",
      "blue :  0\n",
      "purple :  0\n",
      "orange :  1\n",
      "red :  4\n",
      "yellow :  6\n",
      "green :  0\n",
      "blue :  0\n",
      "purple :  0\n",
      "orange :  49\n",
      "red :  0\n",
      "yellow :  44\n",
      "green :  0\n",
      "blue :  0\n",
      "purple :  0\n",
      "orange :  0\n"
     ]
    }
   ],
   "source": [
    "#test code here \n",
    "#class phenotypeFreq:\n",
    " # myLandscape = landscape()\n",
    "  #myLandscape.move()\n",
    " # def phenotypeFreq(self):\n",
    "   # for i in myLandscape.land:\n",
    "    # phenotypeFreq(myLandscape.land[i])\n",
    "    #random.shuffle(phenotypeFreq)\n",
    "\n",
    "myLandscape = landscape()\n",
    "for i in range(100):\n",
    "  myLandscape.move()\n",
    "  \n",
    "for populationObj in myLandscape.land:\n",
    "    populationObj.phenotypeFreq()"
   ]
  },
  {
   "cell_type": "markdown",
   "metadata": {},
   "source": [
    "### - Creating plots of phenotype frequencies and population size."
   ]
  },
  {
   "cell_type": "code",
   "execution_count": 213,
   "metadata": {
    "colab": {
     "base_uri": "https://localhost:8080/",
     "height": 1000
    },
    "colab_type": "code",
    "id": "64rfnOGv-oJV",
    "outputId": "a4b541cd-693b-45ec-8f0c-c968826cb4a1"
   },
   "outputs": [
    {
     "name": "stdout",
     "output_type": "stream",
     "text": [
      "red :  50\n",
      "yellow :  0\n",
      "green :  0\n",
      "blue :  0\n",
      "purple :  0\n",
      "orange :  0\n"
     ]
    },
    {
     "data": {
      "image/png": "[encoded data removed]",
      "text/plain": [
       "<matplotlib.figure.Figure at 0x7f5d455c48d0>"
      ]
     },
     "metadata": {},
     "output_type": "display_data"
    },
    {
     "name": "stdout",
     "output_type": "stream",
     "text": [
      "red :  0\n",
      "yellow :  0\n",
      "green :  0\n",
      "blue :  0\n",
      "purple :  0\n",
      "orange :  49\n"
     ]
    },
    {
     "data": {
      "image/png": "[encoded data removed]",
      "text/plain": [
       "<matplotlib.figure.Figure at 0x7f5d45474a90>"
      ]
     },
     "metadata": {},
     "output_type": "display_data"
    },
    {
     "name": "stdout",
     "output_type": "stream",
     "text": [
      "red :  0\n",
      "yellow :  50\n",
      "green :  0\n",
      "blue :  0\n",
      "purple :  0\n",
      "orange :  1\n"
     ]
    },
    {
     "data": {
      "image/png": "[encoded data removed]",
      "text/plain": [
       "<matplotlib.figure.Figure at 0x7f5d451d6f60>"
      ]
     },
     "metadata": {},
     "output_type": "display_data"
    }
   ],
   "source": [
    "#Code to create plots of phenotype frequencies that shows three different lines\n",
    "#for different populations.\n",
    " \n",
    "Tropics=landscape() #create new landscape called Tropics\n",
    "Tropics.move() \n",
    "for i in Tropics.land:\n",
    "    phenfreqList = i.phenotypeFreq()\n",
    "    #for j in phenfreqList:\n",
    "    plt.plot([0,1,2,3,4,5],phenfreqList)\n",
    "    plt.xlabel('Weeks') #creating x axis label\n",
    "    plt.ylabel('Phenotype Frequencies within that Population') #creating y axis label where it \n",
    "    plt.xticks(rotation=90)\n",
    "    plt.grid(True) #adding a grid\n",
    "    plt.show()  \n"
   ]
  },
  {
   "cell_type": "code",
   "execution_count": 215,
   "metadata": {
    "colab": {},
    "colab_type": "code",
    "id": "53V6xaxNGRor"
   },
   "outputs": [
    {
     "name": "stdout",
     "output_type": "stream",
     "text": [
      "red :  49\n",
      "yellow :  0\n",
      "green :  0\n",
      "blue :  0\n",
      "purple :  0\n",
      "orange :  0\n",
      "red :  1\n",
      "yellow :  0\n",
      "green :  0\n",
      "blue :  0\n",
      "purple :  0\n",
      "orange :  50\n",
      "red :  0\n",
      "yellow :  50\n",
      "green :  0\n",
      "blue :  0\n",
      "purple :  0\n",
      "orange :  0\n"
     ]
    },
    {
     "data": {
      "image/png": "[encoded data removed]",
      "text/plain": [
       "<matplotlib.figure.Figure at 0x7f5d453a0198>"
      ]
     },
     "metadata": {},
     "output_type": "display_data"
    }
   ],
   "source": [
    "#Code to create plots of population sizes that shows three different lines\n",
    "#for three different populations.\n",
    "\n",
    "Beach=landscape() #create new landscape called Beach \n",
    "Beach.move()\n",
    "\n",
    "for i in Beach.land:\n",
    "    sizePlotList= i.sizePlot()\n",
    "    #for j in phenfreqList:\n",
    "    plt.plot([0,1,2,3,4,5],sizePlotList)\n",
    "    plt.xlabel('Weeks') #creating x axis label\n",
    "    plt.ylabel('Population Size') #creating y axis label where it\n",
    "    plt.xticks(rotation=90)\n",
    "    plt.grid(True) #adding a grid\n",
    "    plt.show\n",
    "    #y axis is suppose to have scale of 0-20 to represent population size. Did not know how to change that."
   ]
  },
  {
   "cell_type": "markdown",
   "metadata": {},
   "source": [
    "# Questions:\n",
    "\n",
    "\n",
    "1. The effect the overall frequencies in phenotype seems consistent. Within the simulations we noticed that each population remained basically intact as far as phenotype frequencies throughout the weeks. There was some movement of 1 or 2 individuals into another population shown by the loss of some individuals.  \n",
    "\n",
    "2. The overall rate of migration produced a a downward bell curve. It seems as if the each population reached its lowest size in the middle of the time duration but started off and ended with a greater population.Therefore,the overall increased in the rate of movement changes the overall population as time progresses \n",
    "\n",
    "3. When the movement probabilities are not symmetric,populations will have more individuals going in other populations and less individuals going out populations, therefore, populations sizes will be unequal.\n",
    "\n",
    "4. When changing the population size, we noticed population sizes will cause the trajectory of phenotype frequencies to be unequal for different amounts of time. When you have larger population sizes, there’s more movement of individuals so theirs an unequal number of phenotypes for a longer time. The opposite will happen for smaller population sizes.\n",
    "\n"
   ]
  },
  {
   "cell_type": "markdown",
   "metadata": {},
   "source": [
    "##### Note:This is the full code in its entirety. The document on Github that shows the contributions does not show the Jupyter notebook version of this code only the raw version. I posted the entire code so that it would be easier to read in the Jupyter view."
   ]
  }
 ],
 "metadata": {
  "colab": {
   "collapsed_sections": [],
   "name": "GroupProject.ipynb",
   "provenance": []
  },
  "kernelspec": {
   "display_name": "Python 3",
   "language": "python",
   "name": "python3"
  },
  "language_info": {
   "codemirror_mode": {
    "name": "ipython",
    "version": 3
   },
   "file_extension": ".py",
   "mimetype": "text/x-python",
   "name": "python",
   "nbconvert_exporter": "python",
   "pygments_lexer": "ipython3",
   "version": "3.6.4"
  }
 },
 "nbformat": 4,
 "nbformat_minor": 1
}
